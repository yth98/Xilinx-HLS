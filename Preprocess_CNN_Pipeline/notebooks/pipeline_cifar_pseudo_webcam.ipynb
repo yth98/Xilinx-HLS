{
 "cells": [
  {
   "cell_type": "markdown",
   "metadata": {},
   "source": [
    "# Webcam (on PYNQ-Z2)\n",
    "```from composable_pipeline.video import Webcam```"
   ]
  },
  {
   "cell_type": "code",
   "execution_count": 1,
   "metadata": {},
   "outputs": [
    {
     "name": "stdout",
     "output_type": "stream",
     "text": [
      "\n",
      "General configuration for OpenCV 3.4.3 =====================================\n",
      "  Version control:               unknown\n",
      "\n",
      "  Extra modules:\n",
      "    Location (extra):            /root/opencv_contrib-3.4.3/modules\n",
      "    Version control (extra):     unknown\n",
      "\n",
      "  Platform:\n",
      "    Timestamp:                   2020-05-18T20:51:00Z\n",
      "    Host:                        Linux 4.4.0-154-generic armv7l\n",
      "    CMake:                       3.10.2\n",
      "    CMake generator:             Unix Makefiles\n",
      "    CMake build tool:            /usr/bin/make\n",
      "    Configuration:               RELEASE\n",
      "\n",
      "  CPU/HW features:\n",
      "    Baseline:                    NEON\n",
      "      requested:                 DETECT\n",
      "      required:                  NEON\n",
      "      disabled:                  VFPV3\n",
      "\n",
      "  C/C++:\n",
      "    Built as dynamic libs?:      YES\n",
      "    C++11:                       YES\n",
      "    C++ Compiler:                /usr/bin/c++  (ver 7.3.0)\n",
      "    C++ flags (Release):         -fsigned-char -W -Wall -Werror=return-type -Werror=non-virtual-dtor -Werror=address -Werror=sequence-point -Wformat -Werror=format-security -Wmissing-declarations -Wundef -Winit-self -Wpointer-arith -Wshadow -Wsign-promo -Wuninitialized -Winit-self -Wsuggest-override -Wno-narrowing -Wno-delete-non-virtual-dtor -Wno-comment -Wimplicit-fallthrough=3 -fdiagnostics-show-option -pthread -fomit-frame-pointer -ffunction-sections -fdata-sections  -mfpu=neon -mfp16-format=ieee -fvisibility=hidden -fvisibility-inlines-hidden -O3 -DNDEBUG  -DNDEBUG\n",
      "    C++ flags (Debug):           -fsigned-char -W -Wall -Werror=return-type -Werror=non-virtual-dtor -Werror=address -Werror=sequence-point -Wformat -Werror=format-security -Wmissing-declarations -Wundef -Winit-self -Wpointer-arith -Wshadow -Wsign-promo -Wuninitialized -Winit-self -Wsuggest-override -Wno-narrowing -Wno-delete-non-virtual-dtor -Wno-comment -Wimplicit-fallthrough=3 -fdiagnostics-show-option -pthread -fomit-frame-pointer -ffunction-sections -fdata-sections  -mfpu=neon -mfp16-format=ieee -fvisibility=hidden -fvisibility-inlines-hidden -g  -O0 -DDEBUG -D_DEBUG\n",
      "    C Compiler:                  /usr/bin/cc\n",
      "    C flags (Release):           -fsigned-char -W -Wall -Werror=return-type -Werror=non-virtual-dtor -Werror=address -Werror=sequence-point -Wformat -Werror=format-security -Wmissing-declarations -Wmissing-prototypes -Wstrict-prototypes -Wundef -Winit-self -Wpointer-arith -Wshadow -Wuninitialized -Winit-self -Wno-narrowing -Wno-comment -Wimplicit-fallthrough=3 -fdiagnostics-show-option -pthread -fomit-frame-pointer -ffunction-sections -fdata-sections  -mfpu=neon -mfp16-format=ieee -fvisibility=hidden -O3 -DNDEBUG  -DNDEBUG\n",
      "    C flags (Debug):             -fsigned-char -W -Wall -Werror=return-type -Werror=non-virtual-dtor -Werror=address -Werror=sequence-point -Wformat -Werror=format-security -Wmissing-declarations -Wmissing-prototypes -Wstrict-prototypes -Wundef -Winit-self -Wpointer-arith -Wshadow -Wuninitialized -Winit-self -Wno-narrowing -Wno-comment -Wimplicit-fallthrough=3 -fdiagnostics-show-option -pthread -fomit-frame-pointer -ffunction-sections -fdata-sections  -mfpu=neon -mfp16-format=ieee -fvisibility=hidden -g  -O0 -DDEBUG -D_DEBUG\n",
      "    Linker flags (Release):      \n",
      "    Linker flags (Debug):        \n",
      "    ccache:                      YES\n",
      "    Precompiled headers:         NO\n",
      "    Extra dependencies:          dl m pthread rt\n",
      "    3rdparty dependencies:\n",
      "\n",
      "  OpenCV modules:\n",
      "    To be built:                 aruco bgsegm bioinspired calib3d ccalib core datasets dpm face features2d flann freetype fuzzy hfs highgui img_hash imgcodecs imgproc java_bindings_generator line_descriptor ml objdetect optflow phase_unwrapping photo plot python2 python3 python_bindings_generator reg rgbd saliency shape stereo stitching structured_light superres surface_matching tracking video videoio videostab xfeatures2d ximgproc xobjdetect xphoto\n",
      "    Disabled:                    dnn js world\n",
      "    Disabled by dependency:      dnn_objdetect text\n",
      "    Unavailable:                 cnn_3dobj cudaarithm cudabgsegm cudacodec cudafeatures2d cudafilters cudaimgproc cudalegacy cudaobjdetect cudaoptflow cudastereo cudawarping cudev cvv hdf java matlab ovis sfm ts viz\n",
      "    Applications:                apps\n",
      "    Documentation:               NO\n",
      "    Non-free algorithms:         NO\n",
      "\n",
      "  GUI: \n",
      "    GTK+:                        YES (ver 2.24.32)\n",
      "      GThread :                  YES (ver 2.56.1)\n",
      "      GtkGlExt:                  NO\n",
      "    VTK support:                 NO\n",
      "\n",
      "  Media I/O: \n",
      "    ZLib:                        /usr/lib/arm-linux-gnueabihf/libz.so (ver 1.2.11)\n",
      "    JPEG:                        /usr/lib/arm-linux-gnueabihf/libjpeg.so (ver 80)\n",
      "    WEBP:                        /usr/lib/arm-linux-gnueabihf/libwebp.so (ver encoder: 0x020e)\n",
      "    PNG:                         /usr/lib/arm-linux-gnueabihf/libpng.so (ver 1.6.34)\n",
      "    TIFF:                        /usr/lib/arm-linux-gnueabihf/libtiff.so (ver 42 / 4.0.9)\n",
      "    JPEG 2000:                   build (ver 1.900.1)\n",
      "    OpenEXR:                     /usr/lib/arm-linux-gnueabihf/libImath.so /usr/lib/arm-linux-gnueabihf/libIlmImf.so /usr/lib/arm-linux-gnueabihf/libIex.so /usr/lib/arm-linux-gnueabihf/libHalf.so /usr/lib/arm-linux-gnueabihf/libIlmThread.so (ver 2.2.0)\n",
      "    HDR:                         YES\n",
      "    SUNRASTER:                   YES\n",
      "    PXM:                         YES\n",
      "\n",
      "  Video I/O:\n",
      "    DC1394:                      YES (ver 2.2.5)\n",
      "    FFMPEG:                      YES\n",
      "      avcodec:                   YES (ver 57.107.100)\n",
      "      avformat:                  YES (ver 57.83.100)\n",
      "      avutil:                    YES (ver 55.78.100)\n",
      "      swscale:                   YES (ver 4.8.100)\n",
      "      avresample:                YES (ver 3.7.0)\n",
      "    GStreamer:                   NO\n",
      "    libv4l/libv4l2:              NO\n",
      "    v4l/v4l2:                    linux/videodev2.h\n",
      "\n",
      "  Parallel framework:            pthreads\n",
      "\n",
      "  Trace:                         YES (built-in)\n",
      "\n",
      "  Other third-party libraries:\n",
      "    Lapack:                      NO\n",
      "    Eigen:                       NO\n",
      "    Custom HAL:                  YES (carotene (ver 0.0.1))\n",
      "    Protobuf:                    build (3.5.1)\n",
      "\n",
      "  OpenCL:                        YES (no extra features)\n",
      "    Include path:                /root/opencv-3.4.3/3rdparty/include/opencl/1.2\n",
      "    Link libraries:              Dynamic load\n",
      "\n",
      "  Python 2:\n",
      "    Interpreter:                 /usr/bin/python2.7 (ver 2.7.15)\n",
      "    Libraries:                   /usr/lib/arm-linux-gnueabihf/libpython2.7.so (ver 2.7.15rc1)\n",
      "    numpy:                       /usr/lib/python2.7/dist-packages/numpy/core/include (ver 1.13.3)\n",
      "    packages path:               lib/python2.7/dist-packages\n",
      "\n",
      "  Python 3:\n",
      "    Interpreter:                 /usr/bin/python3 (ver 3.6.5)\n",
      "    Libraries:                   /usr/lib/arm-linux-gnueabihf/libpython3.6m.so (ver 3.6.5)\n",
      "    numpy:                       /usr/local/lib/python3.6/dist-packages/numpy/core/include (ver 1.16.0)\n",
      "    packages path:               lib/python3.6/dist-packages\n",
      "\n",
      "  Python (for build):            /usr/bin/python2.7\n",
      "\n",
      "  Java:                          \n",
      "    ant:                         NO\n",
      "    JNI:                         NO\n",
      "    Java wrappers:               NO\n",
      "    Java tests:                  NO\n",
      "\n",
      "  Matlab:                        NO\n",
      "\n",
      "  Install to:                    /root/opencv-dist\n",
      "-----------------------------------------------------------------\n",
      "\n",
      "\n"
     ]
    }
   ],
   "source": [
    "import cv2\n",
    "print(cv2.getBuildInformation())"
   ]
  },
  {
   "cell_type": "markdown",
   "metadata": {},
   "source": [
    "## Webcam._configure()"
   ]
  },
  {
   "cell_type": "code",
   "execution_count": 2,
   "metadata": {},
   "outputs": [],
   "source": [
    "dev = 0\n",
    "videoIn = cv2.VideoCapture(dev)"
   ]
  },
  {
   "cell_type": "code",
   "execution_count": 3,
   "metadata": {},
   "outputs": [
    {
     "name": "stdout",
     "output_type": "stream",
     "text": [
      "<VideoCapture 0xa8e623f0>\n"
     ]
    }
   ],
   "source": [
    "print(videoIn)"
   ]
  },
  {
   "cell_type": "code",
   "execution_count": 4,
   "metadata": {},
   "outputs": [
    {
     "data": {
      "application/javascript": [
       "\n",
       "try {\n",
       "require(['notebook/js/codecell'], function(codecell) {\n",
       "  codecell.CodeCell.options_default.highlight_modes[\n",
       "      'magic_text/x-csrc'] = {'reg':[/^%%microblaze/]};\n",
       "  Jupyter.notebook.events.one('kernel_ready.Kernel', function(){\n",
       "      Jupyter.notebook.get_cells().map(function(cell){\n",
       "          if (cell.cell_type == 'code'){ cell.auto_highlight(); } }) ;\n",
       "  });\n",
       "});\n",
       "} catch (e) {};\n"
      ]
     },
     "metadata": {},
     "output_type": "display_data"
    },
    {
     "data": {
      "application/javascript": [
       "\n",
       "try {\n",
       "require(['notebook/js/codecell'], function(codecell) {\n",
       "  codecell.CodeCell.options_default.highlight_modes[\n",
       "      'magic_text/x-csrc'] = {'reg':[/^%%pybind11/]};\n",
       "  Jupyter.notebook.events.one('kernel_ready.Kernel', function(){\n",
       "      Jupyter.notebook.get_cells().map(function(cell){\n",
       "          if (cell.cell_type == 'code'){ cell.auto_highlight(); } }) ;\n",
       "  });\n",
       "});\n",
       "} catch (e) {};\n"
      ]
     },
     "metadata": {},
     "output_type": "display_data"
    },
    {
     "name": "stdout",
     "output_type": "stream",
     "text": [
      "VideoMode: width=1280 height=720 bpp=24\n"
     ]
    }
   ],
   "source": [
    "from pynq.lib.video import VideoMode\n",
    "mode = VideoMode(1280,720,24,30); print(mode)"
   ]
  },
  {
   "cell_type": "code",
   "execution_count": 5,
   "metadata": {},
   "outputs": [
    {
     "name": "stdout",
     "output_type": "stream",
     "text": [
      "False\n"
     ]
    }
   ],
   "source": [
    "if videoIn:\n",
    "    videoIn.set(cv2.CAP_PROP_FRAME_WIDTH, mode.width);\n",
    "    videoIn.set(cv2.CAP_PROP_FRAME_HEIGHT, mode.height);\n",
    "    videoIn.set(cv2.CAP_PROP_FPS, mode.fps)\n",
    "print(videoIn.isOpened())"
   ]
  },
  {
   "cell_type": "markdown",
   "metadata": {},
   "source": [
    "## Prepare `cifar2png`"
   ]
  },
  {
   "cell_type": "code",
   "execution_count": 6,
   "metadata": {},
   "outputs": [],
   "source": [
    "import os\n",
    "if not os.path.isdir('cifar10'):\n",
    "    if not os.path.isdir('cifar2png'):\n",
    "        ! git clone https://github.com/knjcode/cifar2png.git && git -C cifar2png checkout tags/0.0.4\n",
    "    ! python3 cifar2png/cifar2png cifar10 cifar10 --name-with-batch-index\n",
    "if not os.path.isfile('cifar10/test/test_batch_index_0000.png'):\n",
    "    ! mv cifar10/test/*/* cifar10/test\n",
    "    ! rmdir cifar10/test/*/"
   ]
  },
  {
   "cell_type": "markdown",
   "metadata": {},
   "source": [
    "## CIFAR-10 as VideoCapture"
   ]
  },
  {
   "cell_type": "code",
   "execution_count": 7,
   "metadata": {},
   "outputs": [
    {
     "name": "stdout",
     "output_type": "stream",
     "text": [
      "True\n"
     ]
    }
   ],
   "source": [
    "if not videoIn.isOpened():\n",
    "    videoIn.release()\n",
    "    videoIn = cv2.VideoCapture('cifar10/test/test_batch_index_%04d.png', cv2.CAP_IMAGES)\n",
    "print(videoIn.isOpened())"
   ]
  },
  {
   "cell_type": "markdown",
   "metadata": {},
   "source": [
    "## Webcam.tie()"
   ]
  },
  {
   "cell_type": "code",
   "execution_count": 8,
   "metadata": {},
   "outputs": [
    {
     "name": "stdout",
     "output_type": "stream",
     "text": [
      "<unlocked _thread.lock object at 0xa8eb3c20>\n"
     ]
    }
   ],
   "source": [
    "import threading\n",
    "from _thread import start_new_thread\n",
    "thread = threading.Lock(); print(thread)"
   ]
  },
  {
   "cell_type": "code",
   "execution_count": 9,
   "metadata": {},
   "outputs": [],
   "source": [
    "from time import sleep\n",
    "ret = None; frame = None\n",
    "def _tie():\n",
    "    global ret, frame\n",
    "    while running:\n",
    "        ret, frame = videoIn.read()\n",
    "        if not ret:\n",
    "            videoIn.set(cv2.CV_CAP_PROP_POS_AVI_RATIO, 0)\n",
    "        sleep(0.01)\n",
    "    thread.release()"
   ]
  },
  {
   "cell_type": "code",
   "execution_count": 10,
   "metadata": {},
   "outputs": [],
   "source": [
    "if not videoIn or not videoIn.isOpened():\n",
    "    raise SystemError('The Webcam is not started')\n",
    "elif not thread.locked():\n",
    "    thread.acquire()\n",
    "    running = True\n",
    "    try:\n",
    "        start_new_thread(_tie, ())\n",
    "    except:\n",
    "        import traceback\n",
    "        print (traceback.format_exc())"
   ]
  },
  {
   "cell_type": "markdown",
   "metadata": {},
   "source": [
    "## Display the Webcam"
   ]
  },
  {
   "cell_type": "code",
   "execution_count": 12,
   "metadata": {},
   "outputs": [
    {
     "data": {
      "text/plain": [
       "<matplotlib.figure.Figure at 0xa73caa70>"
      ]
     },
     "metadata": {},
     "output_type": "display_data"
    },
    {
     "name": "stderr",
     "output_type": "stream",
     "text": [
      "Unhandled exception in thread started by <function _tie at 0xa85a4ae0>\n"
     ]
    }
   ],
   "source": [
    "from IPython.display import display, clear_output\n",
    "from matplotlib import pyplot\n",
    "%matplotlib inline\n",
    "for _ in range(10):\n",
    "    if frame.any():\n",
    "        pyplot.imshow(frame[:,:,::-1])\n",
    "        pyplot.show()\n",
    "        display(pyplot.gcf())\n",
    "        clear_output(wait=True)\n",
    "    sleep(0.1)"
   ]
  },
  {
   "cell_type": "markdown",
   "metadata": {},
   "source": [
    "## Webcam.stop()"
   ]
  },
  {
   "cell_type": "code",
   "execution_count": null,
   "metadata": {},
   "outputs": [],
   "source": [
    "if videoIn:\n",
    "    running = False\n",
    "    while thread.locked():\n",
    "        sleep(0.05)\n",
    "    videoIn.release()\n",
    "    videoIn = None"
   ]
  },
  {
   "cell_type": "code",
   "execution_count": null,
   "metadata": {},
   "outputs": [],
   "source": [
    "print(videoIn)"
   ]
  },
  {
   "cell_type": "code",
   "execution_count": null,
   "metadata": {},
   "outputs": [],
   "source": []
  },
  {
   "cell_type": "code",
   "execution_count": null,
   "metadata": {},
   "outputs": [],
   "source": []
  }
 ],
 "metadata": {
  "kernelspec": {
   "display_name": "Python 3",
   "language": "python",
   "name": "python3"
  },
  "language_info": {
   "codemirror_mode": {
    "name": "ipython",
    "version": 3
   },
   "file_extension": ".py",
   "mimetype": "text/x-python",
   "name": "python",
   "nbconvert_exporter": "python",
   "pygments_lexer": "ipython3",
   "version": "3.6.5"
  }
 },
 "nbformat": 4,
 "nbformat_minor": 4
}
